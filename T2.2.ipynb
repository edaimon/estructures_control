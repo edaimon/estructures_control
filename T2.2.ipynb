{
 "cells": [
  {
   "cell_type": "markdown",
   "id": "6a0016be",
   "metadata": {},
   "source": [
    "# Exercici 1\n",
    "L'exercici consisteix a crear un programa que et classifiqui una variable numèrica en funció de l’escala Suspès/Aprovat/Notable/Excel·lent.\n",
    "Recorda que Suspès < 5, Aprovat > 5 i < 7, Notable > 7 i < 9 i Excel·lent > 9.\n"
   ]
  },
  {
   "cell_type": "code",
   "execution_count": 13,
   "id": "f6c843af",
   "metadata": {},
   "outputs": [
    {
     "name": "stdout",
     "output_type": "stream",
     "text": [
      "Quina nota has tret? 4.9\n",
      "Amb la nota 4.9 la teva calificació és:\n",
      "Suspès\n"
     ]
    }
   ],
   "source": [
    "nota = float(input(\"Quina nota has tret? \"))\n",
    "print(f\"Amb la nota {nota} la teva calificació és:\")\n",
    "if nota < 5 and nota >= 0:\n",
    "    print(\"Suspès\")\n",
    "elif nota >= 5 and nota < 7:\n",
    "    print(\"Aprovat\") \n",
    "elif nota >= 7 and nota < 9:\n",
    "    print(\"Notable\")\n",
    "elif nota >= 9 and nota <= 10:\n",
    "    print(\"Excel·lent\") \n",
    "else:\n",
    "    print(\"Ho sento, només qualifiquen notes del 0 al 10\")"
   ]
  },
  {
   "cell_type": "code",
   "execution_count": null,
   "id": "5cb3786f",
   "metadata": {},
   "outputs": [],
   "source": []
  }
 ],
 "metadata": {
  "kernelspec": {
   "display_name": "Python 3 (ipykernel)",
   "language": "python",
   "name": "python3"
  },
  "language_info": {
   "codemirror_mode": {
    "name": "ipython",
    "version": 3
   },
   "file_extension": ".py",
   "mimetype": "text/x-python",
   "name": "python",
   "nbconvert_exporter": "python",
   "pygments_lexer": "ipython3",
   "version": "3.10.9"
  },
  "varInspector": {
   "cols": {
    "lenName": 16,
    "lenType": 16,
    "lenVar": 40
   },
   "kernels_config": {
    "python": {
     "delete_cmd_postfix": "",
     "delete_cmd_prefix": "del ",
     "library": "var_list.py",
     "varRefreshCmd": "print(var_dic_list())"
    },
    "r": {
     "delete_cmd_postfix": ") ",
     "delete_cmd_prefix": "rm(",
     "library": "var_list.r",
     "varRefreshCmd": "cat(var_dic_list()) "
    }
   },
   "types_to_exclude": [
    "module",
    "function",
    "builtin_function_or_method",
    "instance",
    "_Feature"
   ],
   "window_display": false
  }
 },
 "nbformat": 4,
 "nbformat_minor": 5
}
