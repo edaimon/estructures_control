{
 "cells": [
  {
   "cell_type": "markdown",
   "id": "c702ffe7",
   "metadata": {},
   "source": [
    "# Exercici 1\n",
    "L'exercici consisteix a crear un programa que et classifiqui una variable numèrica en funció de l’escala Suspès/Aprovat/Notable/Excel·lent.\n",
    "Recorda que Suspès < 5, Aprovat > 5 i < 7, Notable > 7 i < 9 i Excel·lent > 9.\n"
   ]
  },
  {
   "cell_type": "code",
   "execution_count": 23,
   "id": "5301cdaa",
   "metadata": {},
   "outputs": [
    {
     "name": "stdout",
     "output_type": "stream",
     "text": [
      "Quina nota has tret? 6.99\n",
      "Amb la nota 6.99 la teva qualificació és:\n",
      "Aprovat\n"
     ]
    }
   ],
   "source": [
    "nota = float(input(\"Quina nota has tret? \"))\n",
    "print(f\"Amb la nota {nota} la teva qualificació és:\")\n",
    "if nota < 5 and nota >= 0:\n",
    "    print(\"Suspès\")\n",
    "elif nota >= 5 and nota < 7:\n",
    "    print(\"Aprovat\") \n",
    "elif nota >= 7 and nota < 9:\n",
    "    print(\"Notable\")\n",
    "elif nota >= 9 and nota <= 10:\n",
    "    print(\"Excel·lent\") \n",
    "else:\n",
    "    print(\"Ho sento, només qualifiquen notes del 0 al 10\")"
   ]
  },
  {
   "cell_type": "markdown",
   "id": "0aeca34b",
   "metadata": {},
   "source": [
    "# Exercici 2\n",
    "Utilitzant el següent tutorial crea un programa que et pregunti dos números. T’ha de mostrar un missatge dient si el primer és més gran, el segon és més gran o són iguals.\n",
    "->Programiz: Python Input, Output and Import\n"
   ]
  },
  {
   "cell_type": "code",
   "execution_count": 4,
   "id": "f705b73d",
   "metadata": {},
   "outputs": [
    {
     "name": "stdout",
     "output_type": "stream",
     "text": [
      "Diga'm dos números. El primer: 2\n",
      "Diga'm dos números. El segon: 3\n",
      "2 és menor que 3\n"
     ]
    }
   ],
   "source": [
    "def compara_numero():\n",
    "    num_1 = int(input(\"Diga'm dos números. El primer: \"))\n",
    "    num_2 = int(input(\"Diga'm dos números. El segon: \"))\n",
    "    if num_1 < num_2:\n",
    "        print(f\"{num_1} és menor que {num_2}\")\n",
    "    elif num_1 > num_2:\n",
    "        print(f\"{num_1} és més gran que {num_2}\")\n",
    "    else:\n",
    "        print(f\"{num_1} i {num_2} són iguals\")\n",
    "compara_numero()\n",
    "          "
   ]
  },
  {
   "cell_type": "markdown",
   "id": "d1369013",
   "metadata": {},
   "source": [
    "# Exercici 3\n",
    "Crea un programa que et pregunti el teu nom, i et demani un número. Si el número és 0, hauria de mostrar un missatge d’error. En cas contrari, hauria de mostrar el nom repetit tants cops com indiqui el número. Per exemple, “Joan Joan Joan”.\n"
   ]
  },
  {
   "cell_type": "code",
   "execution_count": 3,
   "id": "dad0fe12",
   "metadata": {},
   "outputs": [
    {
     "name": "stdout",
     "output_type": "stream",
     "text": [
      "Quin és el teu nom? kiki\n",
      "Diga'm un numero: 20\n",
      "kiki kiki kiki kiki kiki kiki kiki kiki kiki kiki kiki kiki kiki kiki kiki kiki kiki kiki kiki kiki \n"
     ]
    }
   ],
   "source": [
    "def multinom():\n",
    "    nom = str(input(\"Quin és el teu nom? \"))\n",
    "    numero = int(input(\"Diga'm un numero: \"))\n",
    "    if numero == 0:\n",
    "        print(\"Error: el número 0 no és vàlid.\")\n",
    "    else:\n",
    "        print((nom + \" \")*numero)\n",
    "multinom()\n",
    "\n",
    "        \n",
    "\n",
    "             "
   ]
  },
  {
   "cell_type": "markdown",
   "id": "9df6f61b",
   "metadata": {},
   "source": [
    "# Exercici 4\n",
    "Crea un programa que donada una llista qualsevol, et digui si és simètrica o no. Si ho és, que et digui quants elements té.\n"
   ]
  },
  {
   "cell_type": "code",
   "execution_count": 13,
   "id": "969db0ae",
   "metadata": {},
   "outputs": [],
   "source": [
    "# Nota: Aquest exercici es pot plantejar amb return True / False però he optat pel exit() per tenir-ne menys línies de codi\n",
    "perex = [2,3,4,3,2]\n",
    "def llista_simetrica(llista):\n",
    "    esq = 0\n",
    "    dta = -1\n",
    "    for i in llista:\n",
    "        if llista[esq] == llista[dta]:\n",
    "            esq += 1\n",
    "            dta -= 1\n",
    "        else:\n",
    "            print(f\"La llista {llista} no és simètrica\")\n",
    "            exit()\n",
    "    print(f\"La llista {llista} és simètrica\")\n",
    "llista_simetrica(perex)\n"
   ]
  },
  {
   "cell_type": "markdown",
   "id": "e1adc899",
   "metadata": {},
   "source": [
    "# Exercici 5\n",
    "Crea un programa que donada una llista, et digui quants números coincideixen amb la seva posició. Per exemple [3,4,2,0,2,3,6] el 2 i el 6 coincideixen.\n"
   ]
  },
  {
   "cell_type": "code",
   "execution_count": 28,
   "id": "fd3b51d9",
   "metadata": {},
   "outputs": [
    {
     "name": "stdout",
     "output_type": "stream",
     "text": [
      "Els números [2, 6, 8, 10, 12] coincideixen amb la seva posició\n"
     ]
    }
   ],
   "source": [
    "perex = [3,4,2,0,2,3,6,8,8,8,10,14,12]\n",
    "\n",
    "def llista_posicio(llista):\n",
    "    resultat = []\n",
    "    cont = 0\n",
    "    for i in llista:\n",
    "        if cont == i:\n",
    "            resultat.append(i)\n",
    "        cont += 1     \n",
    "    print(f\"Els números {resultat} coincideixen amb la seva posició\") \n",
    "    \n",
    "llista_posicio(perex)\n"
   ]
  }
 ],
 "metadata": {
  "kernelspec": {
   "display_name": "Python 3 (ipykernel)",
   "language": "python",
   "name": "python3"
  },
  "language_info": {
   "codemirror_mode": {
    "name": "ipython",
    "version": 3
   },
   "file_extension": ".py",
   "mimetype": "text/x-python",
   "name": "python",
   "nbconvert_exporter": "python",
   "pygments_lexer": "ipython3",
   "version": "3.10.9"
  },
  "varInspector": {
   "cols": {
    "lenName": 16,
    "lenType": 16,
    "lenVar": 40
   },
   "kernels_config": {
    "python": {
     "delete_cmd_postfix": "",
     "delete_cmd_prefix": "del ",
     "library": "var_list.py",
     "varRefreshCmd": "print(var_dic_list())"
    },
    "r": {
     "delete_cmd_postfix": ") ",
     "delete_cmd_prefix": "rm(",
     "library": "var_list.r",
     "varRefreshCmd": "cat(var_dic_list()) "
    }
   },
   "types_to_exclude": [
    "module",
    "function",
    "builtin_function_or_method",
    "instance",
    "_Feature"
   ],
   "window_display": false
  }
 },
 "nbformat": 4,
 "nbformat_minor": 5
}
